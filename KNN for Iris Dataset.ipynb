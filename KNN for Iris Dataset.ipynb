{
 "cells": [
  {
   "cell_type": "code",
   "execution_count": 1,
   "id": "83c17dc2-5c30-452d-8784-155cba6dca44",
   "metadata": {},
   "outputs": [],
   "source": [
    "# Load libraries\n",
    "from sklearn import datasets\n",
    "from sklearn.neighbors import NearestNeighbors\n",
    "from sklearn.preprocessing import StandardScaler"
   ]
  },
  {
   "cell_type": "code",
   "execution_count": 2,
   "id": "1ee5cfe2-40b4-4684-9ad7-20ac2011efb2",
   "metadata": {},
   "outputs": [],
   "source": [
    "# Load data\n",
    "iris = datasets.load_iris()\n",
    "features = iris.data\n"
   ]
  },
  {
   "cell_type": "code",
   "execution_count": 3,
   "id": "229275fe-127a-43e9-a1e2-e7a00f1b4eb7",
   "metadata": {},
   "outputs": [],
   "source": [
    "# Create standardizer\n",
    "standardizer = StandardScaler()"
   ]
  },
  {
   "cell_type": "code",
   "execution_count": 4,
   "id": "27f2bf85-0d0d-4781-9bc1-3fff10dccebb",
   "metadata": {},
   "outputs": [],
   "source": [
    "# Standardize features\n",
    "features_standardized = standardizer.fit_transform(features)"
   ]
  },
  {
   "cell_type": "code",
   "execution_count": 5,
   "id": "1275a3e1-9f03-4591-a87a-793829d1eeb3",
   "metadata": {},
   "outputs": [],
   "source": [
    "# Create a model that will find the two nearest neighbors\n",
    "nearest_neighbors = NearestNeighbors(n_neighbors=2).fit(features_standardized)"
   ]
  },
  {
   "cell_type": "code",
   "execution_count": 6,
   "id": "7ca1bafb-a15d-46d5-97fd-b51709a0f4ce",
   "metadata": {},
   "outputs": [],
   "source": [
    "# Create an observation\n",
    "new_observation = [ 1, 1, 1, 1]\n"
   ]
  },
  {
   "cell_type": "code",
   "execution_count": 7,
   "id": "f47db49f-f65d-4cce-a3fb-bf20b6c4b3b8",
   "metadata": {},
   "outputs": [],
   "source": [
    "# Find distances and indices of the observation's nearest neighbors\n",
    "distances, indices = nearest_neighbors.kneighbors([new_observation])"
   ]
  },
  {
   "cell_type": "code",
   "execution_count": 8,
   "id": "9970c957-1316-48f2-824a-4b3cc060fa4a",
   "metadata": {},
   "outputs": [
    {
     "data": {
      "text/plain": [
       "array([[[1.03800476, 0.55861082, 1.10378283, 1.18556721],\n",
       "        [0.79566902, 0.32841405, 0.76275827, 1.05393502]]])"
      ]
     },
     "execution_count": 8,
     "metadata": {},
     "output_type": "execute_result"
    }
   ],
   "source": [
    "# View the nearest neighbors\n",
    "features_standardized[indices]"
   ]
  },
  {
   "cell_type": "code",
   "execution_count": 9,
   "id": "af8c6ebf-1f2f-4787-9686-a63a0985bb3f",
   "metadata": {},
   "outputs": [
    {
     "data": {
      "text/plain": [
       "array([[0.49140089, 0.74294782]])"
      ]
     },
     "execution_count": 9,
     "metadata": {},
     "output_type": "execute_result"
    }
   ],
   "source": [
    "# View distances\n",
    "distances"
   ]
  },
  {
   "cell_type": "code",
   "execution_count": 10,
   "id": "37e494ff-9a73-46fd-bdbc-ce6cb47c77bb",
   "metadata": {},
   "outputs": [],
   "source": [
    "# Find two nearest neighbors based on euclidean distance\n",
    "nearestneighbors_euclidean = NearestNeighbors(\n",
    "n_neighbors=2, metric='euclidean').fit(features_standardized)"
   ]
  },
  {
   "cell_type": "code",
   "execution_count": 11,
   "id": "f3ffd2bb-51f7-44d5-89fb-cee98c0adebf",
   "metadata": {},
   "outputs": [],
   "source": [
    "# Find distances and indices of the observation's nearest neighbors\n",
    "distances, indices = nearestneighbors_euclidean.kneighbors([new_observation])"
   ]
  },
  {
   "cell_type": "code",
   "execution_count": 12,
   "id": "a6006591-efac-4c9f-9b34-f8691a782eee",
   "metadata": {},
   "outputs": [
    {
     "data": {
      "text/plain": [
       "array([[[1.03800476, 0.55861082, 1.10378283, 1.18556721],\n",
       "        [0.79566902, 0.32841405, 0.76275827, 1.05393502]]])"
      ]
     },
     "execution_count": 12,
     "metadata": {},
     "output_type": "execute_result"
    }
   ],
   "source": [
    "# View the nearest neighbors\n",
    "features_standardized[indices]"
   ]
  },
  {
   "cell_type": "code",
   "execution_count": 13,
   "id": "9562d7a7-d1d5-4240-9611-e770af42b5be",
   "metadata": {},
   "outputs": [
    {
     "data": {
      "text/plain": [
       "array([[0.49140089, 0.74294782]])"
      ]
     },
     "execution_count": 13,
     "metadata": {},
     "output_type": "execute_result"
    }
   ],
   "source": [
    "# View distances\n",
    "distances"
   ]
  },
  {
   "cell_type": "code",
   "execution_count": null,
   "id": "82c4250c-7c5f-4b1e-a262-8445c4e602a6",
   "metadata": {},
   "outputs": [],
   "source": []
  }
 ],
 "metadata": {
  "kernelspec": {
   "display_name": "Python 3 (ipykernel)",
   "language": "python",
   "name": "python3"
  },
  "language_info": {
   "codemirror_mode": {
    "name": "ipython",
    "version": 3
   },
   "file_extension": ".py",
   "mimetype": "text/x-python",
   "name": "python",
   "nbconvert_exporter": "python",
   "pygments_lexer": "ipython3",
   "version": "3.9.5"
  }
 },
 "nbformat": 4,
 "nbformat_minor": 5
}
